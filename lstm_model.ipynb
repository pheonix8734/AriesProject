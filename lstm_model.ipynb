{
  "cells": [
    {
      "cell_type": "markdown",
      "metadata": {
        "id": "view-in-github",
        "colab_type": "text"
      },
      "source": [
        "<a href=\"https://colab.research.google.com/github/pheonix8734/AriesProject/blob/main/lstm_model.ipynb\" target=\"_parent\"><img src=\"https://colab.research.google.com/assets/colab-badge.svg\" alt=\"Open In Colab\"/></a>"
      ]
    },
    {
      "cell_type": "code",
      "execution_count": null,
      "id": "e381c7db",
      "metadata": {
        "id": "e381c7db"
      },
      "outputs": [],
      "source": [
        "import numpy as np\n",
        "import pandas as pd\n",
        "import scipy.io\n",
        "import math\n",
        "import os\n",
        "import ntpath\n",
        "import sys\n",
        "import logging\n",
        "import time\n",
        "import sys\n",
        "import random\n",
        "\n",
        "from importlib import reload\n",
        "import plotly.graph_objects as go"
      ]
    },
    {
      "cell_type": "code",
      "execution_count": null,
      "id": "a6e7a520",
      "metadata": {
        "id": "a6e7a520"
      },
      "outputs": [],
      "source": [
        "import tensorflow as tf\n",
        "from tensorflow import keras\n",
        "from tensorflow.keras import layers, regularizers\n",
        "\n",
        "from tensorflow.keras.models import Sequential\n",
        "from tensorflow.keras.layers import Dense, Dropout, Activation\n",
        "from tensorflow.keras.optimizers import SGD, Adam\n",
        "from tensorflow.keras.layers import LSTM, Embedding, RepeatVector, TimeDistributed, Masking, Bidirectional\n",
        "from tensorflow.keras.callbacks import EarlyStopping, ModelCheckpoint, LambdaCallback"
      ]
    },
    {
      "cell_type": "code",
      "source": [
        "IS_COLAB = True\n",
        "IS_TRAINING = True\n",
        "RESULT_NAME = \"results.csv\"\n",
        "\n",
        "if IS_COLAB:\n",
        "    from google.colab import drive\n",
        "    drive.mount('/content/drive')\n",
        "    data_path = \"/content/drive/My Drive/Aries_project/Data/\"\n",
        "    IS_COLAB=False\n",
        "else:\n",
        "    data_path = \"../Aries_project/Data/\"\n",
        "\n",
        "sys.path.append(\"/content/drive/My Drive/Aries_project/\")"
      ],
      "metadata": {
        "colab": {
          "base_uri": "https://localhost:8080/",
          "height": 380
        },
        "id": "KokuHc8RBzeS",
        "outputId": "93e31d0c-f5b7-49df-aecf-a4632af5e3a4"
      },
      "id": "KokuHc8RBzeS",
      "execution_count": null,
      "outputs": [
        {
          "output_type": "error",
          "ename": "MessageError",
          "evalue": "ignored",
          "traceback": [
            "\u001b[0;31m---------------------------------------------------------------------------\u001b[0m",
            "\u001b[0;31mMessageError\u001b[0m                              Traceback (most recent call last)",
            "\u001b[0;32m<ipython-input-3-499bf4e0b539>\u001b[0m in \u001b[0;36m<module>\u001b[0;34m()\u001b[0m\n\u001b[1;32m      5\u001b[0m \u001b[0;32mif\u001b[0m \u001b[0mIS_COLAB\u001b[0m\u001b[0;34m:\u001b[0m\u001b[0;34m\u001b[0m\u001b[0;34m\u001b[0m\u001b[0m\n\u001b[1;32m      6\u001b[0m     \u001b[0;32mfrom\u001b[0m \u001b[0mgoogle\u001b[0m\u001b[0;34m.\u001b[0m\u001b[0mcolab\u001b[0m \u001b[0;32mimport\u001b[0m \u001b[0mdrive\u001b[0m\u001b[0;34m\u001b[0m\u001b[0;34m\u001b[0m\u001b[0m\n\u001b[0;32m----> 7\u001b[0;31m     \u001b[0mdrive\u001b[0m\u001b[0;34m.\u001b[0m\u001b[0mmount\u001b[0m\u001b[0;34m(\u001b[0m\u001b[0;34m'/content/drive'\u001b[0m\u001b[0;34m)\u001b[0m\u001b[0;34m\u001b[0m\u001b[0;34m\u001b[0m\u001b[0m\n\u001b[0m\u001b[1;32m      8\u001b[0m     \u001b[0mdata_path\u001b[0m \u001b[0;34m=\u001b[0m \u001b[0;34m\"/content/drive/My Drive/Aries_project/Data/\"\u001b[0m\u001b[0;34m\u001b[0m\u001b[0;34m\u001b[0m\u001b[0m\n\u001b[1;32m      9\u001b[0m     \u001b[0mIS_COLAB\u001b[0m\u001b[0;34m=\u001b[0m\u001b[0;32mFalse\u001b[0m\u001b[0;34m\u001b[0m\u001b[0;34m\u001b[0m\u001b[0m\n",
            "\u001b[0;32m/usr/local/lib/python3.7/dist-packages/google/colab/drive.py\u001b[0m in \u001b[0;36mmount\u001b[0;34m(mountpoint, force_remount, timeout_ms)\u001b[0m\n\u001b[1;32m    107\u001b[0m       \u001b[0mforce_remount\u001b[0m\u001b[0;34m=\u001b[0m\u001b[0mforce_remount\u001b[0m\u001b[0;34m,\u001b[0m\u001b[0;34m\u001b[0m\u001b[0;34m\u001b[0m\u001b[0m\n\u001b[1;32m    108\u001b[0m       \u001b[0mtimeout_ms\u001b[0m\u001b[0;34m=\u001b[0m\u001b[0mtimeout_ms\u001b[0m\u001b[0;34m,\u001b[0m\u001b[0;34m\u001b[0m\u001b[0;34m\u001b[0m\u001b[0m\n\u001b[0;32m--> 109\u001b[0;31m       ephemeral=True)\n\u001b[0m\u001b[1;32m    110\u001b[0m \u001b[0;34m\u001b[0m\u001b[0m\n\u001b[1;32m    111\u001b[0m \u001b[0;34m\u001b[0m\u001b[0m\n",
            "\u001b[0;32m/usr/local/lib/python3.7/dist-packages/google/colab/drive.py\u001b[0m in \u001b[0;36m_mount\u001b[0;34m(mountpoint, force_remount, timeout_ms, ephemeral)\u001b[0m\n\u001b[1;32m    126\u001b[0m   \u001b[0;32mif\u001b[0m \u001b[0mephemeral\u001b[0m\u001b[0;34m:\u001b[0m\u001b[0;34m\u001b[0m\u001b[0;34m\u001b[0m\u001b[0m\n\u001b[1;32m    127\u001b[0m     _message.blocking_request(\n\u001b[0;32m--> 128\u001b[0;31m         'request_auth', request={'authType': 'dfs_ephemeral'}, timeout_sec=None)\n\u001b[0m\u001b[1;32m    129\u001b[0m \u001b[0;34m\u001b[0m\u001b[0m\n\u001b[1;32m    130\u001b[0m   \u001b[0mmountpoint\u001b[0m \u001b[0;34m=\u001b[0m \u001b[0m_os\u001b[0m\u001b[0;34m.\u001b[0m\u001b[0mpath\u001b[0m\u001b[0;34m.\u001b[0m\u001b[0mexpanduser\u001b[0m\u001b[0;34m(\u001b[0m\u001b[0mmountpoint\u001b[0m\u001b[0;34m)\u001b[0m\u001b[0;34m\u001b[0m\u001b[0;34m\u001b[0m\u001b[0m\n",
            "\u001b[0;32m/usr/local/lib/python3.7/dist-packages/google/colab/_message.py\u001b[0m in \u001b[0;36mblocking_request\u001b[0;34m(request_type, request, timeout_sec, parent)\u001b[0m\n\u001b[1;32m    173\u001b[0m   request_id = send_request(\n\u001b[1;32m    174\u001b[0m       request_type, request, parent=parent, expect_reply=True)\n\u001b[0;32m--> 175\u001b[0;31m   \u001b[0;32mreturn\u001b[0m \u001b[0mread_reply_from_input\u001b[0m\u001b[0;34m(\u001b[0m\u001b[0mrequest_id\u001b[0m\u001b[0;34m,\u001b[0m \u001b[0mtimeout_sec\u001b[0m\u001b[0;34m)\u001b[0m\u001b[0;34m\u001b[0m\u001b[0;34m\u001b[0m\u001b[0m\n\u001b[0m",
            "\u001b[0;32m/usr/local/lib/python3.7/dist-packages/google/colab/_message.py\u001b[0m in \u001b[0;36mread_reply_from_input\u001b[0;34m(message_id, timeout_sec)\u001b[0m\n\u001b[1;32m    104\u001b[0m         reply.get('colab_msg_id') == message_id):\n\u001b[1;32m    105\u001b[0m       \u001b[0;32mif\u001b[0m \u001b[0;34m'error'\u001b[0m \u001b[0;32min\u001b[0m \u001b[0mreply\u001b[0m\u001b[0;34m:\u001b[0m\u001b[0;34m\u001b[0m\u001b[0;34m\u001b[0m\u001b[0m\n\u001b[0;32m--> 106\u001b[0;31m         \u001b[0;32mraise\u001b[0m \u001b[0mMessageError\u001b[0m\u001b[0;34m(\u001b[0m\u001b[0mreply\u001b[0m\u001b[0;34m[\u001b[0m\u001b[0;34m'error'\u001b[0m\u001b[0;34m]\u001b[0m\u001b[0;34m)\u001b[0m\u001b[0;34m\u001b[0m\u001b[0;34m\u001b[0m\u001b[0m\n\u001b[0m\u001b[1;32m    107\u001b[0m       \u001b[0;32mreturn\u001b[0m \u001b[0mreply\u001b[0m\u001b[0;34m.\u001b[0m\u001b[0mget\u001b[0m\u001b[0;34m(\u001b[0m\u001b[0;34m'data'\u001b[0m\u001b[0;34m,\u001b[0m \u001b[0;32mNone\u001b[0m\u001b[0;34m)\u001b[0m\u001b[0;34m\u001b[0m\u001b[0;34m\u001b[0m\u001b[0m\n\u001b[1;32m    108\u001b[0m \u001b[0;34m\u001b[0m\u001b[0m\n",
            "\u001b[0;31mMessageError\u001b[0m: Error: credential propagation was unsuccessful"
          ]
        }
      ]
    },
    {
      "cell_type": "code",
      "execution_count": null,
      "id": "50e686c0",
      "metadata": {
        "id": "50e686c0"
      },
      "outputs": [],
      "source": [
        "\n",
        "\n",
        "\n",
        "from Data_preprocessing_tool.RulHandler import RulHandler\n",
        "from Data_preprocessing_tool.data_processing import NasaRandomizedData\n",
        "\n",
        "Data_Handler=NasaRandomizedData(data_path)\n",
        "Rul_Handler=RulHandler()\n",
        "\n",
        "reload(logging)\n",
        "logging.basicConfig(format='%(asctime)s [%(levelname)s]: %(message)s', level=logging.DEBUG, datefmt='%Y/%m/%d %H:%M:%S')"
      ]
    },
    {
      "cell_type": "code",
      "execution_count": null,
      "id": "ca3b02ba",
      "metadata": {
        "id": "ca3b02ba"
      },
      "outputs": [],
      "source": [
        "train_names = [\n",
        "        #         'Battery_Uniform_Distribution_Variable_Charge_Room_Temp_DataSet_2Post/data/Matlab/RW1',\n",
        "#         'Battery_Uniform_Distribution_Variable_Charge_Room_Temp_DataSet_2Post/data/Matlab/RW2',\n",
        "                # 'Battery_Uniform_Distribution_Variable_Charge_Room_Temp_DataSet_2Post/data/Matlab/RW7',\n",
        "\n",
        "                # 'Battery_Uniform_Distribution_Discharge_Room_Temp_DataSet_2Post/data/Matlab/RW3',\n",
        "        #         'Battery_Uniform_Distribution_Discharge_Room_Temp_DataSet_2Post/data/Matlab/RW4',\n",
        "        #         'Battery_Uniform_Distribution_Discharge_Room_Temp_DataSet_2Post/data/Matlab/RW5',\n",
        "\n",
        "        #         'Battery_Uniform_Distribution_Charge_Discharge_DataSet_2Post/data/Matlab/RW9',\n",
        "        #         'Battery_Uniform_Distribution_Charge_Discharge_DataSet_2Post/data/Matlab/RW10',\n",
        "        #         'Battery_Uniform_Distribution_Charge_Discharge_DataSet_2Post/data/Matlab/RW11',\n",
        "\n",
        "                'RW_Skewed_Low_Room_Temp_DataSet_2Post/data/Matlab/RW13',\n",
        "        #         'RW_Skewed_Low_Room_Temp_DataSet_2Post/data/Matlab/RW14',\n",
        "        #         'RW_Skewed_Low_Room_Temp_DataSet_2Post/data/Matlab/RW15',\n",
        "\n",
        "        #         'RW_Skewed_High_Room_Temp_DataSet_2Post/data/Matlab/RW17',\n",
        "        #         'RW_Skewed_High_Room_Temp_DataSet_2Post/data/Matlab/RW18',\n",
        "        #         'RW_Skewed_High_Room_Temp_DataSet_2Post/data/Matlab/RW19',\n",
        "\n",
        "        #         'RW_Skewed_Low_40C_DataSet_2Post/data/Matlab/RW21',\n",
        "        #         'RW_Skewed_Low_40C_DataSet_2Post/data/Matlab/RW22',\n",
        "        #         'RW_Skewed_Low_40C_DataSet_2Post/data/Matlab/RW23',\n",
        "\n",
        "        #         'RW_Skewed_High_40C_DataSet_2Post/data/Matlab/RW25',\n",
        "        #         'RW_Skewed_High_40C_DataSet_2Post/data/Matlab/RW26',\n",
        "        #         'RW_Skewed_High_40C_DataSet_2Post/data/Matlab/RW27',\n",
        "\n",
        "    ]\n",
        "test_names = [\n",
        "        #         'Battery_Uniform_Distribution_Variable_Charge_Room_Temp_DataSet_2Post/data/Matlab/RW8',\n",
        "        'Battery_Uniform_Distribution_Discharge_Room_Temp_DataSet_2Post/data/Matlab/RW6',\n",
        "        #         'Battery_Uniform_Distribution_Charge_Discharge_DataSet_2Post/data/Matlab/RW12',\n",
        "        #         'RW_Skewed_Low_Room_Temp_DataSet_2Post/data/Matlab/RW16',\n",
        "        #         'RW_Skewed_High_Room_Temp_DataSet_2Post/data/Matlab/RW20',\n",
        "        #         'RW_Skewed_Low_40C_DataSet_2Post/data/Matlab/RW24',\n",
        "        #         'RW_Skewed_High_40C_DataSet_2Post/data/Matlab/RW28',\n",
        "    ]\n"
      ]
    },
    {
      "cell_type": "markdown",
      "id": "45574d3e",
      "metadata": {
        "id": "45574d3e"
      },
      "source": [
        "# Data Processing\n"
      ]
    },
    {
      "cell_type": "code",
      "execution_count": null,
      "id": "2a6b50c1",
      "metadata": {
        "id": "2a6b50c1"
      },
      "outputs": [],
      "source": [
        "CAPACITY_THRESHOLDS = None\n",
        "NOMINAL_CAPACITY = 2.2\n",
        "N_CYCLE = 500\n",
        "WARMUP_TRAIN = 15\n",
        "WARMUP_TEST = 30\n",
        "\n",
        "(train_x, train_y_soh, test_x, test_y_soh,\n",
        "  train_battery_range, test_battery_range,\n",
        "  time_train, time_test, current_train, current_test) = Data_Handler.get_discharge_whole_cycle_future(train_names, test_names)\n",
        "\n",
        "train_y = Rul_Handler.prepare_y_future(train_names, train_battery_range, train_y_soh, current_train, time_train, CAPACITY_THRESHOLDS, capacity=NOMINAL_CAPACITY)\n",
        "del globals()[\"current_train\"]\n",
        "del globals()[\"time_train\"]\n",
        "test_y = Rul_Handler.prepare_y_future(test_names, test_battery_range, test_y_soh, current_test, time_test, CAPACITY_THRESHOLDS, capacity=NOMINAL_CAPACITY)\n",
        "del globals()[\"current_test\"]\n",
        "del globals()[\"time_test\"]\n",
        "train_x, test_x = Rul_Handler.compress_cycle(train_x, test_x)\n",
        "\n"
      ]
    },
    {
      "cell_type": "code",
      "execution_count": null,
      "id": "46d07c69",
      "metadata": {
        "scrolled": true,
        "id": "46d07c69"
      },
      "outputs": [],
      "source": [
        "x_norm = Rul_Handler.Normalization()\n",
        "train_x, test_x = x_norm.fit_and_normalize(train_x, test_x)\n",
        "\n",
        "train_x = Rul_Handler.battery_life_to_time_series(train_x, N_CYCLE, train_battery_range)\n",
        "test_x = Rul_Handler.battery_life_to_time_series(test_x, N_CYCLE, test_battery_range)\n",
        "\n",
        "train_x, train_y, train_battery_range, train_y_soh = Rul_Handler.delete_initial(train_x, train_y, train_battery_range, train_y_soh, WARMUP_TRAIN)\n",
        "test_x, test_y, test_battery_range, test_y_soh = Rul_Handler.delete_initial(test_x, test_y, test_battery_range, test_y_soh, WARMUP_TEST)\n",
        "\n",
        "train_x, train_y, train_battery_range, train_y_soh = Rul_Handler.limit_zeros(train_x, train_y, train_battery_range, train_y_soh)\n",
        "test_x, test_y, test_battery_range, test_y_soh = Rul_Handler.limit_zeros(test_x, test_y, test_battery_range, test_y_soh)\n",
        "\n",
        "train_y = train_y[:,1]\n",
        "test_y = test_y[:,1]"
      ]
    },
    {
      "cell_type": "code",
      "execution_count": null,
      "id": "94ae772d",
      "metadata": {
        "id": "94ae772d"
      },
      "outputs": [],
      "source": [
        "y_norm = Rul_Handler.Normalization()\n",
        "train_y, test_y = y_norm.fit_and_normalize(train_y, test_y)"
      ]
    },
    {
      "cell_type": "code",
      "execution_count": null,
      "id": "f14d1ce6",
      "metadata": {
        "id": "f14d1ce6"
      },
      "outputs": [],
      "source": [
        "if IS_TRAINING:\n",
        "    EXPERIMENT = \"lstm_rul_nasa_randomized\"\n",
        "\n",
        "    experiment_name = time.strftime(\"%Y-%m-%d-%H-%M-%S\") + '_' + EXPERIMENT\n",
        "    print(experiment_name)\n",
        "\n",
        "    # Model definition\n",
        "\n",
        "    opt = tf.keras.optimizers.Adam(learning_rate=0.000003)\n",
        "\n",
        "    model = Sequential()\n",
        "    model.add(Masking(input_shape=(train_x.shape[1], train_x.shape[2])))\n",
        "    model.add(LSTM(128, activation='selu',\n",
        "                    return_sequences=True,\n",
        "                    kernel_regularizer=regularizers.l2(0.0002)))\n",
        "    model.add(LSTM(64, activation='selu', return_sequences=False,\n",
        "                    kernel_regularizer=regularizers.l2(0.0002)))\n",
        "    model.add(Dense(64, activation='selu', kernel_regularizer=regularizers.l2(0.0002)))\n",
        "    model.add(Dense(32, activation='selu', kernel_regularizer=regularizers.l2(0.0002)))\n",
        "    model.add(Dense(1, activation='linear'))\n",
        "    model.summary()\n",
        "\n",
        "    model.compile(optimizer=opt, loss='huber', metrics=['mse', 'mae', 'mape', tf.keras.metrics.RootMeanSquaredError(name='rmse')])"
      ]
    },
    {
      "cell_type": "code",
      "execution_count": null,
      "id": "61fd828f",
      "metadata": {
        "id": "61fd828f"
      },
      "outputs": [],
      "source": [
        "if IS_TRAINING:\n",
        "    history = model.fit(train_x, train_y,\n",
        "                                epochs=2, \n",
        "                                batch_size=32, \n",
        "                                verbose=1,\n",
        "                                validation_split=0\n",
        "                               )"
      ]
    },
    {
      "cell_type": "code",
      "execution_count": null,
      "id": "cf21499a",
      "metadata": {
        "id": "cf21499a"
      },
      "outputs": [],
      "source": [
        "if IS_TRAINING:\n",
        "    model.save(data_path + 'results/trained_model/%s.h5' % experiment_name)\n",
        "    hist_df = pd.DataFrame(history.history)\n",
        "    hist_csv_file = data_path + 'results/trained_model/%s_history.csv' % experiment_name\n",
        "    with open(hist_csv_file, mode='w') as f:\n",
        "        hist_df.to_csv(f)\n",
        "    history = history.history"
      ]
    },
    {
      "cell_type": "code",
      "execution_count": null,
      "id": "0ec2eb99",
      "metadata": {
        "id": "0ec2eb99"
      },
      "outputs": [],
      "source": [
        "if not IS_TRAINING:\n",
        "    history = pd.read_csv(data_path + 'results/trained_model/%s_history.csv' % RESULT_NAME)\n",
        "    model = keras.models.load_model(data_path + 'results/trained_model/%s.h5' % RESULT_NAME)\n",
        "    model.summary()"
      ]
    },
    {
      "cell_type": "code",
      "execution_count": null,
      "id": "91d38e72",
      "metadata": {
        "id": "91d38e72"
      },
      "outputs": [],
      "source": [
        "if not IS_TRAINING:\n",
        "    with pd.option_context('display.max_rows', None, 'display.max_columns', None):\n",
        "        print(history)"
      ]
    },
    {
      "cell_type": "code",
      "execution_count": null,
      "id": "b4662c16",
      "metadata": {
        "id": "b4662c16"
      },
      "outputs": [],
      "source": [
        "results = model.evaluate(test_x, test_y, return_dict = True)\n",
        "print(results)\n",
        "max_rmse = 0\n",
        "for index in range(test_x.shape[0]):\n",
        "    result = model.evaluate(np.array([test_x[index, :, :]]), np.array([test_y[index]]), return_dict = True, verbose=0)\n",
        "    max_rmse = max(max_rmse, result['rmse'])\n",
        "print(\"Max rmse: {}\".format(max_rmse))"
      ]
    },
    {
      "cell_type": "code",
      "execution_count": null,
      "id": "4a97d956",
      "metadata": {
        "id": "4a97d956"
      },
      "outputs": [],
      "source": [
        "fig = go.Figure()\n",
        "fig.add_trace(go.Scatter(y=history['loss'],\n",
        "                    mode='lines', name='train'))\n",
        "if 'val_loss' in history:\n",
        "    fig.add_trace(go.Scatter(y=history['val_loss'],\n",
        "                    mode='lines', name='validation'))\n",
        "fig.update_layout(title='Loss trend',\n",
        "                  xaxis_title='epoch',\n",
        "                  yaxis_title='loss',\n",
        "                  width=1400,\n",
        "                  height=600)\n",
        "fig.show()"
      ]
    },
    {
      "cell_type": "code",
      "execution_count": null,
      "id": "451eda6f",
      "metadata": {
        "id": "451eda6f"
      },
      "outputs": [],
      "source": [
        "train_predictions = model.predict(train_x)\n",
        "\n",
        "train_y = y_norm.denormalize(train_y)\n",
        "train_predictions = y_norm.denormalize(train_predictions)"
      ]
    },
    {
      "cell_type": "code",
      "execution_count": null,
      "id": "c7e5c9fd",
      "metadata": {
        "id": "c7e5c9fd"
      },
      "outputs": [],
      "source": [
        "a = 0\n",
        "for b in train_battery_range:\n",
        "    fig = go.Figure()\n",
        "    fig.add_trace(go.Scatter(x=train_y_soh[a:b], y=train_predictions[a:b,0],\n",
        "                        mode='lines', name='predicted'))\n",
        "    fig.add_trace(go.Scatter(x=train_y_soh[a:b], y=train_y[a:b],\n",
        "                        mode='lines', name='actual'))\n",
        "    fig.update_layout(title='Results on training',\n",
        "                    xaxis_title='SoH Capacity',\n",
        "                    yaxis_title='Remaining Ah until EOL',\n",
        "                    xaxis={'autorange':'reversed'},\n",
        "                    width=1400,\n",
        "                    height=600)\n",
        "    fig.show()\n",
        "    a = b"
      ]
    },
    {
      "cell_type": "code",
      "execution_count": null,
      "id": "7e5beb26",
      "metadata": {
        "id": "7e5beb26"
      },
      "outputs": [],
      "source": [
        "a = 0\n",
        "for b in train_battery_range:\n",
        "    fig = go.Figure()\n",
        "    fig.add_trace(go.Scatter(y=train_predictions[a:b,0],\n",
        "                        mode='lines', name='predicted'))\n",
        "    fig.add_trace(go.Scatter(y=train_y[a:b],\n",
        "                        mode='lines', name='actual'))\n",
        "    fig.update_layout(title='Results on training',\n",
        "                    xaxis_title='Cycle',\n",
        "                    yaxis_title='Remaining Ah until EOL',\n",
        "                    width=1400,\n",
        "                    height=600)\n",
        "    fig.show()\n",
        "    a = b"
      ]
    },
    {
      "cell_type": "code",
      "execution_count": null,
      "id": "c0958b0b",
      "metadata": {
        "id": "c0958b0b"
      },
      "outputs": [],
      "source": [
        "test_predictions = model.predict(test_x)\n",
        "\n",
        "test_y = y_norm.denormalize(test_y)\n",
        "test_predictions = y_norm.denormalize(test_predictions)"
      ]
    },
    {
      "cell_type": "code",
      "execution_count": null,
      "id": "21a2c155",
      "metadata": {
        "id": "21a2c155"
      },
      "outputs": [],
      "source": [
        "a = 0\n",
        "for b in test_battery_range:\n",
        "    fig = go.Figure()\n",
        "    fig.add_trace(go.Scatter(x=test_y_soh[a:b], y=test_predictions[a:b,0],\n",
        "                        mode='lines', name='predicted'))\n",
        "    fig.add_trace(go.Scatter(x = test_y_soh[a:b], y=test_y[a:b],\n",
        "                        mode='lines', name='actual'))\n",
        "    fig.update_layout(title='Results on testing',\n",
        "                    xaxis_title='SoH Capacity',\n",
        "                    yaxis_title='Remaining Ah until EOL',\n",
        "                    xaxis={'autorange':'reversed'},\n",
        "                    width=1400,\n",
        "                    height=600)\n",
        "    fig.show()\n",
        "    a = b"
      ]
    },
    {
      "cell_type": "code",
      "execution_count": null,
      "id": "1df791b2",
      "metadata": {
        "id": "1df791b2"
      },
      "outputs": [],
      "source": [
        "a = 0\n",
        "for b in test_battery_range:\n",
        "    fig = go.Figure()\n",
        "    fig.add_trace(go.Scatter(y=test_predictions[a:b, 0],\n",
        "                        mode='lines', name='predicted'))\n",
        "    fig.add_trace(go.Scatter(y=test_y[a:b],\n",
        "                        mode='lines', name='actual'))\n",
        "    fig.update_layout(title='Results on testing',\n",
        "                    xaxis_title='Cycle',\n",
        "                    yaxis_title='Remaining Ah until EOL',\n",
        "                    width=1400,\n",
        "                    height=600)\n",
        "    fig.show()\n",
        "    a = b"
      ]
    },
    {
      "cell_type": "code",
      "execution_count": null,
      "id": "b8dfbe35",
      "metadata": {
        "id": "b8dfbe35"
      },
      "outputs": [],
      "source": [
        ""
      ]
    }
  ],
  "metadata": {
    "kernelspec": {
      "display_name": "Python 3",
      "name": "python3"
    },
    "language_info": {
      "name": "python"
    },
    "colab": {
      "name": "lstm_model.ipynb",
      "provenance": [],
      "include_colab_link": true
    }
  },
  "nbformat": 4,
  "nbformat_minor": 5
}